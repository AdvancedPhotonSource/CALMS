{
 "cells": [
  {
   "cell_type": "code",
   "execution_count": 24,
   "metadata": {},
   "outputs": [
    {
     "name": "stdout",
     "output_type": "stream",
     "text": [
      "cuda\n",
      "Using 4 GPUs\n"
     ]
    }
   ],
   "source": [
    "import os\n",
    "#os.environ[\"CUDA_VISIBLE_DEVICES\"]='0,1'\n",
    "\n",
    "import torch\n",
    "from transformers import AutoTokenizer, AutoModelForCausalLM, pipeline\n",
    "\n",
    "from langchain.llms import HuggingFacePipeline\n",
    "from langchain import PromptTemplate, LLMChain\n",
    "from langchain.chains.conversation.memory import ConversationBufferWindowMemory\n",
    "from langchain.embeddings import HuggingFaceEmbeddings \n",
    "from langchain.text_splitter import RecursiveCharacterTextSplitter\n",
    "from langchain.vectorstores import Chroma\n",
    "\n",
    "import shutil\n",
    "from tqdm import tqdm_notebook\n",
    "\n",
    "device = \"cuda\" if torch.cuda.is_available() else \"cpu\"\n",
    "#Need only 1 GPU if loading 8-bit model\n",
    "print(device)\n",
    "\n",
    "print(\"Using %d GPUs\" %torch.cuda.device_count())\n",
    "\n",
    "import gradio as gr\n",
    "import time\n"
   ]
  },
  {
   "cell_type": "code",
   "execution_count": 21,
   "metadata": {},
   "outputs": [],
   "source": [
    "chunk_size = 1024\n",
    "chunk_overlap = 0\n",
    "seq_length = 1024\n",
    "embedding_model_name = \"all-mpnet-base-v2\""
   ]
  },
  {
   "cell_type": "code",
   "execution_count": 22,
   "metadata": {},
   "outputs": [],
   "source": [
    "model_name = \"eachadea/vicuna-13b-1.1\"\n",
    "tokenizer_path = \"./tokenizer/\"\n",
    "\n",
    "#Create a local tokenizer copy the first time\n",
    "if os.path.isdir(tokenizer_path):\n",
    "    tokenizer = AutoTokenizer.from_pretrained(tokenizer_path)\n",
    "else:\n",
    "    tokenizer = AutoTokenizer.from_pretrained(\"model_name\")\n",
    "    os.mkdir(tokenizer_path)\n",
    "    tokenizer.save_pretrained(tokenizer_path)"
   ]
  },
  {
   "cell_type": "code",
   "execution_count": 9,
   "metadata": {},
   "outputs": [
    {
     "data": {
      "application/vnd.jupyter.widget-view+json": {
       "model_id": "4bad45e733104445bc82a6a4d2209a5d",
       "version_major": 2,
       "version_minor": 0
      },
      "text/plain": [
       "Loading checkpoint shards:   0%|          | 0/3 [00:00<?, ?it/s]"
      ]
     },
     "metadata": {},
     "output_type": "display_data"
    }
   ],
   "source": [
    "model = AutoModelForCausalLM.from_pretrained(model_name, device_map=\"auto\")#, load_in_8bit=True)\n",
    "pipe = pipeline(\n",
    "    \"text-generation\",\n",
    "    model=model, \n",
    "    tokenizer=tokenizer, \n",
    "    max_length=seq_length,\n",
    "    temperature=0.6,\n",
    "    top_p=0.95,\n",
    "    repetition_penalty=1.2\n",
    ")"
   ]
  },
  {
   "cell_type": "code",
   "execution_count": 25,
   "metadata": {},
   "outputs": [
    {
     "name": "stderr",
     "output_type": "stream",
     "text": [
      "/tmp/ipykernel_627644/275823926.py:33: TqdmDeprecationWarning: This function will be removed in tqdm==5.0.0\n",
      "Please use `tqdm.notebook.tqdm` instead of `tqdm.tqdm_notebook`\n",
      "  all_texts, embeddings, metadatas=[{\"source\": str(i)} for i in tqdm_notebook(range(len(all_texts)))],\n"
     ]
    },
    {
     "data": {
      "application/vnd.jupyter.widget-view+json": {
       "model_id": "3b5dd854466749f9ab88b35fca3be848",
       "version_major": 2,
       "version_minor": 0
      },
      "text/plain": [
       "  0%|          | 0/9133 [00:00<?, ?it/s]"
      ]
     },
     "metadata": {},
     "output_type": "display_data"
    },
    {
     "name": "stderr",
     "output_type": "stream",
     "text": [
      "Using embedded DuckDB with persistence: data will be stored in: embeds/all-mpnet-base-v2\n"
     ]
    },
    {
     "data": {
      "application/vnd.jupyter.widget-view+json": {
       "model_id": "f31576642de74dbb90b02190419f06b1",
       "version_major": 2,
       "version_minor": 0
      },
      "text/plain": [
       "FloatProgress(value=0.0, layout=Layout(width='100%'), style=ProgressStyle(bar_color='black'))"
      ]
     },
     "metadata": {},
     "output_type": "display_data"
    }
   ],
   "source": [
    "#Load embedding model and use that to embed text from source\n",
    "embeddings = HuggingFaceEmbeddings(model_name=embedding_model_name)\n",
    "\n",
    "init_docs = True\n",
    "use_openai = False\n",
    "\n",
    "if use_openai:\n",
    "    embeddings = OpenAIEmbeddings(openai_api_key='')\n",
    "    embed_path = 'embeds/openai'\n",
    "else:\n",
    "    embed_path = 'embeds/%s' %(embedding_model_name)\n",
    "\n",
    "\n",
    "if init_docs:\n",
    "    text_splitter = RecursiveCharacterTextSplitter(chunk_size=chunk_size, chunk_overlap=chunk_overlap)\n",
    "\n",
    "    if os.path.exists(embed_path):\n",
    "        response = input(\"WARNING: DELETING EXISTING EMBEDDINGS. Type \\\"y\\\" to continue.\")\n",
    "        if response.strip() == \"y\":\n",
    "            shutil.rmtree(embed_path)\n",
    "        else:\n",
    "            raise ValueError(\"Existing Chroma Collection\")\n",
    "\n",
    "    all_texts = []\n",
    "    doc_path = 'APS-Science-Highlight'\n",
    "    for text_fp in os.listdir(doc_path):\n",
    "        with open(os.path.join(doc_path, text_fp), 'r') as text_f:\n",
    "            book = text_f.read()\n",
    "        texts = text_splitter.split_text(book)\n",
    "        all_texts += texts\n",
    "\n",
    "    docsearch = Chroma.from_texts(\n",
    "        all_texts, embeddings, metadatas=[{\"source\": str(i)} for i in range(len(all_texts))],\n",
    "        persist_directory=embed_path\n",
    "    )\n",
    "    docsearch.persist()\n",
    "else:\n",
    "    docsearch = Chroma(persist_directory=embed_path)"
   ]
  },
  {
   "cell_type": "code",
   "execution_count": 6,
   "metadata": {},
   "outputs": [],
   "source": [
    "def get_context(query):\n",
    "    N_hits = 3 #How many hits of context to provide?\n",
    "    docs = docsearch.similarity_search_with_score(query, k=N_hits)\n",
    "    #Get context strings\n",
    "    context=\"\"\n",
    "    for i in range(N_hits):\n",
    "        context += docs[i][0].page_content +\"\\n\"\n",
    "    print (context)\n",
    "    return context"
   ]
  },
  {
   "cell_type": "code",
   "execution_count": 37,
   "metadata": {},
   "outputs": [
    {
     "name": "stdout",
     "output_type": "stream",
     "text": [
      "See also: \"How LSD Binds to the Brain, and Why Trips Last So Long,\" by Douglas Main, Newsweek.com, 1.26.17.\n",
      "\n",
      "Argonne National Laboratory seeks solutions to pressing national problems in science and technology. The nation's first national laboratory, Argonne conducts leading-edge basic and applied scientific research in virtually every scientific discipline. Argonne researchers work closely with researchers from hundreds of companies, universities, and federal, state and municipal agencies to help them solve their specific problems, advance America's scientific leadership and prepare the nation for a better future. With employees from more than 60 nations, Argonne is managed by UChicago Argonne, LLC for the U.S. Department of Energy's Office of Science.\n",
      "See also: “Fighting Parasitic Infections: Promise in Cyclic Peptides,” NIH Director’s Blog, by Dr. Francis Collins, April 11, 2017.\n",
      "\n",
      "Argonne National Laboratory seeks solutions to pressing national problems in science and technology. The nation's first national laboratory, Argonne conducts leading-edge basic and applied scientific research in virtually every scientific discipline. Argonne researchers work closely with researchers from hundreds of companies, universities, and federal, state and municipal agencies to help them solve their specific problems, advance America's scientific leadership and prepare the nation for a better future. With employees from more than 60 nations, Argonne is managed by UChicago Argonne, LLC for the U.S. Department of Energy's Office of Science.\n",
      "Paciﬁc Northwest National Laboratory advances the frontiers of knowledge, taking on some of the world’s greatest science and technology challenges. Distinctive strengths in chemistry, Earth sciences, and data analytics are the heart of our science mission, laying a foundation for innovations that improve America’s energy resiliency and enhance our national security.\n",
      "\n",
      "Argonne National Laboratory seeks solutions to pressing national problems in science and technology. The nation's first national laboratory, Argonne conducts leading-edge basic and applied scientific research in virtually every scientific discipline. Argonne researchers work closely with researchers from hundreds of companies, universities, and federal, state and municipal agencies to help them solve their specific problems, advance America's scientific leadership and prepare the nation for a better future. With employees from more than 60 nations, Argonne is managed by UChicago Argonne, LLC, for the U.S. DOE Office of Science.\n",
      "\n",
      "page_content='See also: \"How LSD Binds to the Brain, and Why Trips Last So Long,\" by Douglas Main, Newsweek.com, 1.26.17.\\n\\nArgonne National Laboratory seeks solutions to pressing national problems in science and technology. The nation\\'s first national laboratory, Argonne conducts leading-edge basic and applied scientific research in virtually every scientific discipline. Argonne researchers work closely with researchers from hundreds of companies, universities, and federal, state and municipal agencies to help them solve their specific problems, advance America\\'s scientific leadership and prepare the nation for a better future. With employees from more than 60 nations, Argonne is managed by UChicago Argonne, LLC for the U.S. Department of Energy\\'s Office of Science.' metadata={'source': '7573'}\n",
      "page_content=\"See also: “Fighting Parasitic Infections: Promise in Cyclic Peptides,” NIH Director’s Blog, by Dr. Francis Collins, April 11, 2017.\\n\\nArgonne National Laboratory seeks solutions to pressing national problems in science and technology. The nation's first national laboratory, Argonne conducts leading-edge basic and applied scientific research in virtually every scientific discipline. Argonne researchers work closely with researchers from hundreds of companies, universities, and federal, state and municipal agencies to help them solve their specific problems, advance America's scientific leadership and prepare the nation for a better future. With employees from more than 60 nations, Argonne is managed by UChicago Argonne, LLC for the U.S. Department of Energy's Office of Science.\" metadata={'source': '4858'}\n",
      "page_content=\"Paciﬁc Northwest National Laboratory advances the frontiers of knowledge, taking on some of the world’s greatest science and technology challenges. Distinctive strengths in chemistry, Earth sciences, and data analytics are the heart of our science mission, laying a foundation for innovations that improve America’s energy resiliency and enhance our national security.\\n\\nArgonne National Laboratory seeks solutions to pressing national problems in science and technology. The nation's first national laboratory, Argonne conducts leading-edge basic and applied scientific research in virtually every scientific discipline. Argonne researchers work closely with researchers from hundreds of companies, universities, and federal, state and municipal agencies to help them solve their specific problems, advance America's scientific leadership and prepare the nation for a better future. With employees from more than 60 nations, Argonne is managed by UChicago Argonne, LLC, for the U.S. DOE Office of Science.\" metadata={'source': '3489'}\n",
      "page_content='Illinois Institute of Technology is a private, technology-focused research university offering undergraduate and graduate degrees in engineering, science, architecture, business, design, human sciences, applied technology, and law. One of 21 institutions that comprise the Association of Independent Technological Universities (AITU), Illinois Tech offers exceptional preparation for professions that require technological sophistication, an innovative mindset, and an entrepreneurial spirit. For more information visit iit.edu.\\n\\nPublished Date\\n\\n02.10.2016' metadata={'source': '2196'}\n",
      "page_content=\"The nation's first national laboratory, Argonne National Laboratory conducts basic and applied scientific research across a wide spectrum of disciplines, ranging from high-energy physics to climatology and biotechnology. Since 1990, Argonne has worked with more than 600 companies and numerous federal agencies and other organizations to help advance America's scientific leadership and prepare the nation for the future. Argonne is managed by the\\xa0University of Chicago\\xa0for the\\xa0U.S. Department of Energy's\\xa0Office of Science\\n\\nPublished Date\\n\\n07.14.2006\" metadata={'source': '478'}\n"
     ]
    }
   ],
   "source": [
    "query1 = \"Who is Jonathan Lang\"\n",
    "query2 = \"What is CDI\"\n",
    "query3 = \"What is 3DCDI-NN?\"\n",
    "get_context(query1)\n",
    "N_hits = 5\n",
    "docs = docsearch.similarity_search_with_score(query1, k=N_hits)\n",
    "for doc in docs:\n",
    "    print(doc[0])"
   ]
  },
  {
   "cell_type": "code",
   "execution_count": null,
   "metadata": {},
   "outputs": [],
   "source": []
  }
 ],
 "metadata": {
  "kernelspec": {
   "display_name": "HugFace",
   "language": "python",
   "name": "python3"
  },
  "language_info": {
   "codemirror_mode": {
    "name": "ipython",
    "version": 3
   },
   "file_extension": ".py",
   "mimetype": "text/x-python",
   "name": "python",
   "nbconvert_exporter": "python",
   "pygments_lexer": "ipython3",
   "version": "3.11.2"
  },
  "orig_nbformat": 4
 },
 "nbformat": 4,
 "nbformat_minor": 2
}
